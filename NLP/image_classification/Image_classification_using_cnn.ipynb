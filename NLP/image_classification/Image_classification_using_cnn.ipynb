{
 "cells": [
  {
   "cell_type": "code",
   "execution_count": 97,
   "metadata": {},
   "outputs": [],
   "source": [
    "import pandas as pd\n",
    "import matplotlib.pyplot as plt\n",
    "import numpy as np"
   ]
  },
  {
   "cell_type": "code",
   "execution_count": 98,
   "metadata": {},
   "outputs": [],
   "source": [
    "import tensorflow as tf"
   ]
  },
  {
   "cell_type": "code",
   "execution_count": 141,
   "metadata": {},
   "outputs": [],
   "source": [
    "from keras.preprocessing.image import ImageDataGenerator"
   ]
  },
  {
   "cell_type": "code",
   "execution_count": 142,
   "metadata": {},
   "outputs": [
    {
     "name": "stdout",
     "output_type": "stream",
     "text": [
      "Found 2282 images belonging to 4 classes.\n"
     ]
    }
   ],
   "source": [
    "train_data=ImageDataGenerator(rescale=1/255,shear_range=0.2,zoom_range=0.2,horizontal_flip=True)\n",
    "training=train_data.flow_from_directory('Image recognition/train',target_size=(64,64),batch_size=32,class_mode='categorical')"
   ]
  },
  {
   "cell_type": "code",
   "execution_count": 143,
   "metadata": {},
   "outputs": [
    {
     "name": "stdout",
     "output_type": "stream",
     "text": [
      "Found 28 images belonging to 4 classes.\n"
     ]
    }
   ],
   "source": [
    "test_data=ImageDataGenerator(rescale=1/255,shear_range=0.2,zoom_range=0.2,horizontal_flip=True)\n",
    "test=test_data.flow_from_directory('Image recognition/test',target_size=(64,64),batch_size=32,class_mode='categorical')"
   ]
  },
  {
   "cell_type": "code",
   "execution_count": 144,
   "metadata": {},
   "outputs": [],
   "source": [
    "cnn=tf.keras.models.Sequential()"
   ]
  },
  {
   "cell_type": "code",
   "execution_count": 145,
   "metadata": {},
   "outputs": [],
   "source": [
    "cnn.add(tf.keras.layers.Conv2D(filters=32, kernel_size=3, activation='relu', input_shape=[64, 64, 3]))"
   ]
  },
  {
   "cell_type": "code",
   "execution_count": 146,
   "metadata": {},
   "outputs": [],
   "source": [
    "cnn.add(tf.keras.layers.MaxPool2D(pool_size=2,strides=2))"
   ]
  },
  {
   "cell_type": "code",
   "execution_count": 147,
   "metadata": {},
   "outputs": [],
   "source": [
    "cnn.add(tf.keras.layers.Conv2D(filters=75,kernel_size=3,activation='relu',input_shape=[64,64,3]))"
   ]
  },
  {
   "cell_type": "code",
   "execution_count": 148,
   "metadata": {},
   "outputs": [],
   "source": [
    "cnn.add(tf.keras.layers.MaxPool2D(pool_size=2,strides=2))"
   ]
  },
  {
   "cell_type": "code",
   "execution_count": 149,
   "metadata": {},
   "outputs": [],
   "source": [
    "cnn.add(tf.keras.layers.Flatten())"
   ]
  },
  {
   "cell_type": "code",
   "execution_count": 150,
   "metadata": {},
   "outputs": [],
   "source": [
    "cnn.add(tf.keras.layers.Dense(units=128, activation='relu'))"
   ]
  },
  {
   "cell_type": "code",
   "execution_count": 151,
   "metadata": {},
   "outputs": [],
   "source": [
    "cnn.add(tf.keras.layers.Dense(units=4, activation='softmax'))"
   ]
  },
  {
   "cell_type": "code",
   "execution_count": 152,
   "metadata": {},
   "outputs": [],
   "source": [
    "cnn.compile(optimizer = 'adam', loss = 'categorical_crossentropy', metrics = ['accuracy'])"
   ]
  },
  {
   "cell_type": "code",
   "execution_count": 153,
   "metadata": {
    "scrolled": true
   },
   "outputs": [
    {
     "name": "stdout",
     "output_type": "stream",
     "text": [
      "Epoch 1/25\n",
      "72/72 [==============================] - 44s 615ms/step - loss: 0.9892 - accuracy: 0.5009 - val_loss: 1.1565 - val_accuracy: 0.5357\n",
      "Epoch 2/25\n",
      "72/72 [==============================] - 14s 196ms/step - loss: 0.7847 - accuracy: 0.6170 - val_loss: 0.9659 - val_accuracy: 0.5357\n",
      "Epoch 3/25\n",
      "72/72 [==============================] - 16s 226ms/step - loss: 0.7113 - accuracy: 0.6608 - val_loss: 0.7711 - val_accuracy: 0.7500\n",
      "Epoch 4/25\n",
      "72/72 [==============================] - 17s 232ms/step - loss: 0.6952 - accuracy: 0.6832 - val_loss: 0.6206 - val_accuracy: 0.6786\n",
      "Epoch 5/25\n",
      "72/72 [==============================] - 17s 237ms/step - loss: 0.6308 - accuracy: 0.7042 - val_loss: 0.6478 - val_accuracy: 0.7143\n",
      "Epoch 6/25\n",
      "72/72 [==============================] - 17s 235ms/step - loss: 0.6031 - accuracy: 0.7235 - val_loss: 0.5526 - val_accuracy: 0.7500\n",
      "Epoch 7/25\n",
      "72/72 [==============================] - 17s 236ms/step - loss: 0.5806 - accuracy: 0.7406 - val_loss: 0.4205 - val_accuracy: 0.8571\n",
      "Epoch 8/25\n",
      "72/72 [==============================] - 19s 257ms/step - loss: 0.5344 - accuracy: 0.7524 - val_loss: 0.4582 - val_accuracy: 0.8214\n",
      "Epoch 9/25\n",
      "72/72 [==============================] - 17s 236ms/step - loss: 0.5310 - accuracy: 0.7550 - val_loss: 0.4041 - val_accuracy: 0.8571\n",
      "Epoch 10/25\n",
      "72/72 [==============================] - 17s 232ms/step - loss: 0.5071 - accuracy: 0.7730 - val_loss: 0.5277 - val_accuracy: 0.7500\n",
      "Epoch 11/25\n",
      "72/72 [==============================] - 17s 235ms/step - loss: 0.4707 - accuracy: 0.7892 - val_loss: 0.3352 - val_accuracy: 0.9286\n",
      "Epoch 12/25\n",
      "72/72 [==============================] - 17s 234ms/step - loss: 0.4607 - accuracy: 0.7927 - val_loss: 0.3958 - val_accuracy: 0.8214\n",
      "Epoch 13/25\n",
      "72/72 [==============================] - 17s 236ms/step - loss: 0.4387 - accuracy: 0.7958 - val_loss: 0.4091 - val_accuracy: 0.8929\n",
      "Epoch 14/25\n",
      "72/72 [==============================] - 17s 238ms/step - loss: 0.4243 - accuracy: 0.8138 - val_loss: 0.4870 - val_accuracy: 0.8214\n",
      "Epoch 15/25\n",
      "72/72 [==============================] - 18s 245ms/step - loss: 0.4249 - accuracy: 0.8168 - val_loss: 0.3503 - val_accuracy: 0.8571\n",
      "Epoch 16/25\n",
      "72/72 [==============================] - 17s 236ms/step - loss: 0.3830 - accuracy: 0.8440 - val_loss: 0.3782 - val_accuracy: 0.8214\n",
      "Epoch 17/25\n",
      "72/72 [==============================] - 17s 240ms/step - loss: 0.3622 - accuracy: 0.8462 - val_loss: 0.2861 - val_accuracy: 0.8571\n",
      "Epoch 18/25\n",
      "72/72 [==============================] - 17s 236ms/step - loss: 0.3427 - accuracy: 0.8466 - val_loss: 0.3762 - val_accuracy: 0.8214\n",
      "Epoch 19/25\n",
      "72/72 [==============================] - 17s 242ms/step - loss: 0.3334 - accuracy: 0.8576 - val_loss: 0.3953 - val_accuracy: 0.8214\n",
      "Epoch 20/25\n",
      "72/72 [==============================] - 17s 236ms/step - loss: 0.3126 - accuracy: 0.8738 - val_loss: 0.4228 - val_accuracy: 0.8214\n",
      "Epoch 21/25\n",
      "72/72 [==============================] - 17s 235ms/step - loss: 0.3024 - accuracy: 0.8729 - val_loss: 0.3943 - val_accuracy: 0.8214\n",
      "Epoch 22/25\n",
      "72/72 [==============================] - 17s 235ms/step - loss: 0.2806 - accuracy: 0.8922 - val_loss: 0.4360 - val_accuracy: 0.8214\n",
      "Epoch 23/25\n",
      "72/72 [==============================] - 18s 247ms/step - loss: 0.2834 - accuracy: 0.8804 - val_loss: 0.3864 - val_accuracy: 0.8929\n",
      "Epoch 24/25\n",
      "72/72 [==============================] - 17s 233ms/step - loss: 0.2762 - accuracy: 0.8821 - val_loss: 0.4255 - val_accuracy: 0.8214\n",
      "Epoch 25/25\n",
      "72/72 [==============================] - 17s 239ms/step - loss: 0.2342 - accuracy: 0.9005 - val_loss: 0.3134 - val_accuracy: 0.8929\n"
     ]
    },
    {
     "data": {
      "text/plain": [
       "<tensorflow.python.keras.callbacks.History at 0x219dd9af448>"
      ]
     },
     "execution_count": 153,
     "metadata": {},
     "output_type": "execute_result"
    }
   ],
   "source": [
    "cnn.fit(x=training, validation_data=test,epochs=25)"
   ]
  },
  {
   "cell_type": "code",
   "execution_count": 162,
   "metadata": {},
   "outputs": [
    {
     "name": "stdout",
     "output_type": "stream",
     "text": [
      "[[0. 1. 0. 0.]]\n"
     ]
    }
   ],
   "source": [
    "import numpy as np\n",
    "from keras.preprocessing import image\n",
    "test_image = image.load_img('Image recognition/test/dogs/31 - Copy.jpg', target_size = (64, 64))\n",
    "test_image = image.img_to_array(test_image)\n",
    "test_image = np.expand_dims(test_image, axis = 0)\n",
    "result = cnn.predict(test_image)\n",
    "training.class_indices\n",
    "print(result)"
   ]
  },
  {
   "cell_type": "code",
   "execution_count": 130,
   "metadata": {},
   "outputs": [
    {
     "name": "stdout",
     "output_type": "stream",
     "text": [
      "Model: \"sequential_8\"\n",
      "_________________________________________________________________\n",
      "Layer (type)                 Output Shape              Param #   \n",
      "=================================================================\n",
      "conv2d_18 (Conv2D)           (None, 62, 62, 32)        896       \n",
      "_________________________________________________________________\n",
      "max_pooling2d_16 (MaxPooling (None, 31, 31, 32)        0         \n",
      "_________________________________________________________________\n",
      "conv2d_19 (Conv2D)           (None, 29, 29, 75)        21675     \n",
      "_________________________________________________________________\n",
      "max_pooling2d_17 (MaxPooling (None, 14, 14, 75)        0         \n",
      "_________________________________________________________________\n",
      "flatten_7 (Flatten)          (None, 14700)             0         \n",
      "_________________________________________________________________\n",
      "dense_14 (Dense)             (None, 128)               1881728   \n",
      "_________________________________________________________________\n",
      "dense_15 (Dense)             (None, 4)                 516       \n",
      "=================================================================\n",
      "Total params: 1,904,815\n",
      "Trainable params: 1,904,815\n",
      "Non-trainable params: 0\n",
      "_________________________________________________________________\n"
     ]
    }
   ],
   "source": [
    "cnn.summary()"
   ]
  },
  {
   "cell_type": "code",
   "execution_count": null,
   "metadata": {},
   "outputs": [],
   "source": []
  }
 ],
 "metadata": {
  "kernelspec": {
   "display_name": "Python 3",
   "language": "python",
   "name": "python3"
  },
  "language_info": {
   "codemirror_mode": {
    "name": "ipython",
    "version": 3
   },
   "file_extension": ".py",
   "mimetype": "text/x-python",
   "name": "python",
   "nbconvert_exporter": "python",
   "pygments_lexer": "ipython3",
   "version": "3.7.6"
  }
 },
 "nbformat": 4,
 "nbformat_minor": 4
}
