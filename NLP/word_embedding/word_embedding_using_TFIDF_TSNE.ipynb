{
 "cells": [
  {
   "cell_type": "code",
   "execution_count": 1,
   "metadata": {},
   "outputs": [],
   "source": [
    "import numpy as np\n",
    "import pandas as pd\n",
    "import matplotlib.pyplot as plt\n",
    "import os"
   ]
  },
  {
   "cell_type": "code",
   "execution_count": 2,
   "metadata": {},
   "outputs": [],
   "source": [
    "from sklearn.feature_extraction.text import TfidfTransformer"
   ]
  },
  {
   "cell_type": "code",
   "execution_count": 3,
   "metadata": {},
   "outputs": [],
   "source": [
    "from sklearn.manifold import TSNE"
   ]
  },
  {
   "cell_type": "code",
   "execution_count": 4,
   "metadata": {},
   "outputs": [],
   "source": [
    "prefix = r'...\\large_files/'\n",
    "input_files = [f for f in os.listdir(prefix) if f.startswith('enwiki') and f.endswith('txt')]\n",
    "n_files=25\n",
    "if n_files is not None:\n",
    "        input_files = input_files[:n_files]\n"
   ]
  },
  {
   "cell_type": "code",
   "execution_count": 5,
   "metadata": {},
   "outputs": [],
   "source": [
    "lines=[]\n",
    "for file in input_files:\n",
    "    for line in open(prefix + file, encoding='utf-8'):\n",
    "            line = line.strip()\n",
    "            if(line!=''):\n",
    "                lines.append(line)\n"
   ]
  },
  {
   "cell_type": "code",
   "execution_count": 6,
   "metadata": {},
   "outputs": [
    {
     "data": {
      "text/plain": [
       "'[[Anarchism]]'"
      ]
     },
     "execution_count": 6,
     "metadata": {},
     "output_type": "execute_result"
    }
   ],
   "source": [
    "lines[0]"
   ]
  },
  {
   "cell_type": "code",
   "execution_count": 7,
   "metadata": {},
   "outputs": [],
   "source": [
    "sentences=[]\n",
    "sen=[]\n",
    "for i in lines :\n",
    "    x=i.split(\".\")\n",
    "    for j in x:\n",
    "        sentences.append(j)"
   ]
  },
  {
   "cell_type": "code",
   "execution_count": 8,
   "metadata": {},
   "outputs": [
    {
     "data": {
      "text/plain": [
       "3372763"
      ]
     },
     "execution_count": 8,
     "metadata": {},
     "output_type": "execute_result"
    }
   ],
   "source": [
    "len(sentences)"
   ]
  },
  {
   "cell_type": "code",
   "execution_count": 9,
   "metadata": {},
   "outputs": [],
   "source": [
    "for x in sentences:\n",
    "    x=x.lower()\n",
    "    sen.append(x)"
   ]
  },
  {
   "cell_type": "code",
   "execution_count": 10,
   "metadata": {},
   "outputs": [],
   "source": [
    "punctuations = '''!-;:'\"\\,<>./?@£#$%^&*_~'''\n",
    "obrackets=['(','[','{']\n",
    "cbrackets=[')','}',']']\n",
    "sen2=[]\n",
    "flag=0\n",
    "for i in sen:\n",
    "    j=[]\n",
    "    for char in i:\n",
    "        if char in obrackets:\n",
    "            flag=1\n",
    "        if (char not in punctuations and char!=chr(8364) and char!=',') and flag!=1 :\n",
    "            j.append(char)\n",
    "        if char in cbrackets:\n",
    "            flag=0\n",
    "            \n",
    "    sen2.append(\"\".join(j))"
   ]
  },
  {
   "cell_type": "code",
   "execution_count": 11,
   "metadata": {},
   "outputs": [],
   "source": [
    "sentences=list(filter(lambda a: len(a) >2, sentences))"
   ]
  },
  {
   "cell_type": "code",
   "execution_count": 12,
   "metadata": {},
   "outputs": [
    {
     "data": {
      "text/plain": [
       "2814720"
      ]
     },
     "execution_count": 12,
     "metadata": {},
     "output_type": "execute_result"
    }
   ],
   "source": [
    "len(sentences)"
   ]
  },
  {
   "cell_type": "code",
   "execution_count": 13,
   "metadata": {},
   "outputs": [],
   "source": [
    "k=0\n",
    "vocab={}\n",
    "wordcount=0\n",
    "number_occurences={}\n",
    "column_names=[]\n",
    "for line in sentences:\n",
    "    words=line.split(\" \")\n",
    "    for word in words:\n",
    "        if word not in vocab:\n",
    "            if len(word)>=2:\n",
    "                vocab[word]=k\n",
    "                wordcount+=1\n",
    "                number_occurences[word]=0\n",
    "                k=k+1\n",
    "            else:\n",
    "                if word==\"a\" or word==\"i\":\n",
    "                    vocab[word]=k\n",
    "                    wordcount+=1\n",
    "                    k=k+1\n",
    "                    number_occurences[word]=0\n",
    "        if word in vocab:\n",
    "            number_occurences[word]+=1"
   ]
  },
  {
   "cell_type": "code",
   "execution_count": 14,
   "metadata": {},
   "outputs": [],
   "source": [
    "occurences=sorted(number_occurences.items(), key = lambda kv:(kv[1], kv[0]),reverse=True)"
   ]
  },
  {
   "cell_type": "code",
   "execution_count": 21,
   "metadata": {},
   "outputs": [],
   "source": [
    "voacb={}\n",
    "words=[]\n",
    "k=0\n",
    "worcount=0\n",
    "for i in range(0,2000):\n",
    "    vocab[occurences[i][0]]=k\n",
    "    k+=1\n",
    "    wordcount+=1\n",
    "    words.append(occurences[i][0])\n",
    "vocab['UNKNOWN']=2000\n",
    "words.append(\"UNKNOWN\")\n",
    "wordcount+=1"
   ]
  },
  {
   "cell_type": "code",
   "execution_count": 22,
   "metadata": {},
   "outputs": [],
   "source": [
    "sen=[]\n",
    "for i in range(0,1000):\n",
    "    sen.append(sentences[i])\n",
    "    "
   ]
  },
  {
   "cell_type": "code",
   "execution_count": 23,
   "metadata": {},
   "outputs": [
    {
     "data": {
      "text/plain": [
       "2001"
      ]
     },
     "execution_count": 23,
     "metadata": {},
     "output_type": "execute_result"
    }
   ],
   "source": [
    "len(words)"
   ]
  },
  {
   "cell_type": "code",
   "execution_count": 24,
   "metadata": {},
   "outputs": [],
   "source": [
    "A = np.zeros((len(words), len(sen)))\n",
    "i=0\n",
    "for x in sen:\n",
    "    j=x.split(\" \")\n",
    "    for l in j:\n",
    "        if l not in words:\n",
    "            A[vocab[\"UNKNOWN\"],i]+=1\n",
    "        else:\n",
    "            A[vocab[l],i]+=1\n",
    "    i+=1"
   ]
  },
  {
   "cell_type": "code",
   "execution_count": 25,
   "metadata": {},
   "outputs": [
    {
     "data": {
      "text/plain": [
       "2001"
      ]
     },
     "execution_count": 25,
     "metadata": {},
     "output_type": "execute_result"
    }
   ],
   "source": [
    "len(A)"
   ]
  },
  {
   "cell_type": "code",
   "execution_count": 26,
   "metadata": {},
   "outputs": [],
   "source": [
    "A=np.array(A)"
   ]
  },
  {
   "cell_type": "code",
   "execution_count": 27,
   "metadata": {},
   "outputs": [],
   "source": [
    "transformer=TfidfTransformer(smooth_idf=True,norm=None)"
   ]
  },
  {
   "cell_type": "code",
   "execution_count": 28,
   "metadata": {},
   "outputs": [],
   "source": [
    "tfidf=transformer.fit_transform(A).toarray()"
   ]
  },
  {
   "cell_type": "code",
   "execution_count": 29,
   "metadata": {},
   "outputs": [
    {
     "name": "stdout",
     "output_type": "stream",
     "text": [
      "<class 'numpy.ndarray'>\n"
     ]
    }
   ],
   "source": [
    "print(type(tfidf))"
   ]
  },
  {
   "cell_type": "code",
   "execution_count": 24,
   "metadata": {},
   "outputs": [
    {
     "data": {
      "text/html": [
       "<div>\n",
       "<style scoped>\n",
       "    .dataframe tbody tr th:only-of-type {\n",
       "        vertical-align: middle;\n",
       "    }\n",
       "\n",
       "    .dataframe tbody tr th {\n",
       "        vertical-align: top;\n",
       "    }\n",
       "\n",
       "    .dataframe thead th {\n",
       "        text-align: right;\n",
       "    }\n",
       "</style>\n",
       "<table border=\"1\" class=\"dataframe\">\n",
       "  <thead>\n",
       "    <tr style=\"text-align: right;\">\n",
       "      <th></th>\n",
       "      <th>0</th>\n",
       "      <th>1</th>\n",
       "      <th>2</th>\n",
       "      <th>3</th>\n",
       "      <th>4</th>\n",
       "      <th>5</th>\n",
       "      <th>6</th>\n",
       "      <th>7</th>\n",
       "      <th>8</th>\n",
       "      <th>9</th>\n",
       "      <th>...</th>\n",
       "      <th>990</th>\n",
       "      <th>991</th>\n",
       "      <th>992</th>\n",
       "      <th>993</th>\n",
       "      <th>994</th>\n",
       "      <th>995</th>\n",
       "      <th>996</th>\n",
       "      <th>997</th>\n",
       "      <th>998</th>\n",
       "      <th>999</th>\n",
       "    </tr>\n",
       "  </thead>\n",
       "  <tbody>\n",
       "    <tr>\n",
       "      <th>0</th>\n",
       "      <td>0.00000</td>\n",
       "      <td>0.000000</td>\n",
       "      <td>0.000000</td>\n",
       "      <td>0.000000</td>\n",
       "      <td>8.601002</td>\n",
       "      <td>15.625090</td>\n",
       "      <td>0.000000</td>\n",
       "      <td>0.000000</td>\n",
       "      <td>0.000000</td>\n",
       "      <td>0.000000</td>\n",
       "      <td>...</td>\n",
       "      <td>8.070374</td>\n",
       "      <td>14.939201</td>\n",
       "      <td>16.261998</td>\n",
       "      <td>16.026432</td>\n",
       "      <td>7.959149</td>\n",
       "      <td>0.0</td>\n",
       "      <td>0.000000</td>\n",
       "      <td>15.625090</td>\n",
       "      <td>15.004780</td>\n",
       "      <td>0.0</td>\n",
       "    </tr>\n",
       "    <tr>\n",
       "      <th>1</th>\n",
       "      <td>0.00000</td>\n",
       "      <td>0.000000</td>\n",
       "      <td>0.000000</td>\n",
       "      <td>0.000000</td>\n",
       "      <td>0.000000</td>\n",
       "      <td>7.812545</td>\n",
       "      <td>16.140748</td>\n",
       "      <td>7.907855</td>\n",
       "      <td>16.391075</td>\n",
       "      <td>8.264530</td>\n",
       "      <td>...</td>\n",
       "      <td>0.000000</td>\n",
       "      <td>14.939201</td>\n",
       "      <td>0.000000</td>\n",
       "      <td>32.052863</td>\n",
       "      <td>7.959149</td>\n",
       "      <td>0.0</td>\n",
       "      <td>0.000000</td>\n",
       "      <td>23.437635</td>\n",
       "      <td>22.507170</td>\n",
       "      <td>0.0</td>\n",
       "    </tr>\n",
       "    <tr>\n",
       "      <th>2</th>\n",
       "      <td>0.00000</td>\n",
       "      <td>0.000000</td>\n",
       "      <td>0.000000</td>\n",
       "      <td>0.000000</td>\n",
       "      <td>8.601002</td>\n",
       "      <td>0.000000</td>\n",
       "      <td>16.140748</td>\n",
       "      <td>7.907855</td>\n",
       "      <td>8.195537</td>\n",
       "      <td>0.000000</td>\n",
       "      <td>...</td>\n",
       "      <td>0.000000</td>\n",
       "      <td>7.469600</td>\n",
       "      <td>0.000000</td>\n",
       "      <td>0.000000</td>\n",
       "      <td>0.000000</td>\n",
       "      <td>0.0</td>\n",
       "      <td>8.505692</td>\n",
       "      <td>0.000000</td>\n",
       "      <td>0.000000</td>\n",
       "      <td>0.0</td>\n",
       "    </tr>\n",
       "    <tr>\n",
       "      <th>3</th>\n",
       "      <td>0.00000</td>\n",
       "      <td>0.000000</td>\n",
       "      <td>0.000000</td>\n",
       "      <td>0.000000</td>\n",
       "      <td>0.000000</td>\n",
       "      <td>7.812545</td>\n",
       "      <td>0.000000</td>\n",
       "      <td>0.000000</td>\n",
       "      <td>0.000000</td>\n",
       "      <td>0.000000</td>\n",
       "      <td>...</td>\n",
       "      <td>0.000000</td>\n",
       "      <td>14.939201</td>\n",
       "      <td>8.130999</td>\n",
       "      <td>0.000000</td>\n",
       "      <td>0.000000</td>\n",
       "      <td>0.0</td>\n",
       "      <td>0.000000</td>\n",
       "      <td>23.437635</td>\n",
       "      <td>7.502390</td>\n",
       "      <td>0.0</td>\n",
       "    </tr>\n",
       "    <tr>\n",
       "      <th>4</th>\n",
       "      <td>0.00000</td>\n",
       "      <td>0.000000</td>\n",
       "      <td>0.000000</td>\n",
       "      <td>0.000000</td>\n",
       "      <td>8.601002</td>\n",
       "      <td>7.812545</td>\n",
       "      <td>0.000000</td>\n",
       "      <td>0.000000</td>\n",
       "      <td>0.000000</td>\n",
       "      <td>8.264530</td>\n",
       "      <td>...</td>\n",
       "      <td>0.000000</td>\n",
       "      <td>14.939201</td>\n",
       "      <td>0.000000</td>\n",
       "      <td>0.000000</td>\n",
       "      <td>7.959149</td>\n",
       "      <td>0.0</td>\n",
       "      <td>0.000000</td>\n",
       "      <td>15.625090</td>\n",
       "      <td>15.004780</td>\n",
       "      <td>0.0</td>\n",
       "    </tr>\n",
       "    <tr>\n",
       "      <th>...</th>\n",
       "      <td>...</td>\n",
       "      <td>...</td>\n",
       "      <td>...</td>\n",
       "      <td>...</td>\n",
       "      <td>...</td>\n",
       "      <td>...</td>\n",
       "      <td>...</td>\n",
       "      <td>...</td>\n",
       "      <td>...</td>\n",
       "      <td>...</td>\n",
       "      <td>...</td>\n",
       "      <td>...</td>\n",
       "      <td>...</td>\n",
       "      <td>...</td>\n",
       "      <td>...</td>\n",
       "      <td>...</td>\n",
       "      <td>...</td>\n",
       "      <td>...</td>\n",
       "      <td>...</td>\n",
       "      <td>...</td>\n",
       "      <td>...</td>\n",
       "    </tr>\n",
       "    <tr>\n",
       "      <th>19996</th>\n",
       "      <td>0.00000</td>\n",
       "      <td>0.000000</td>\n",
       "      <td>0.000000</td>\n",
       "      <td>0.000000</td>\n",
       "      <td>0.000000</td>\n",
       "      <td>0.000000</td>\n",
       "      <td>0.000000</td>\n",
       "      <td>0.000000</td>\n",
       "      <td>0.000000</td>\n",
       "      <td>0.000000</td>\n",
       "      <td>...</td>\n",
       "      <td>0.000000</td>\n",
       "      <td>0.000000</td>\n",
       "      <td>0.000000</td>\n",
       "      <td>0.000000</td>\n",
       "      <td>0.000000</td>\n",
       "      <td>0.0</td>\n",
       "      <td>0.000000</td>\n",
       "      <td>0.000000</td>\n",
       "      <td>0.000000</td>\n",
       "      <td>0.0</td>\n",
       "    </tr>\n",
       "    <tr>\n",
       "      <th>19997</th>\n",
       "      <td>0.00000</td>\n",
       "      <td>0.000000</td>\n",
       "      <td>0.000000</td>\n",
       "      <td>0.000000</td>\n",
       "      <td>0.000000</td>\n",
       "      <td>0.000000</td>\n",
       "      <td>0.000000</td>\n",
       "      <td>0.000000</td>\n",
       "      <td>0.000000</td>\n",
       "      <td>0.000000</td>\n",
       "      <td>...</td>\n",
       "      <td>0.000000</td>\n",
       "      <td>0.000000</td>\n",
       "      <td>0.000000</td>\n",
       "      <td>0.000000</td>\n",
       "      <td>0.000000</td>\n",
       "      <td>0.0</td>\n",
       "      <td>0.000000</td>\n",
       "      <td>0.000000</td>\n",
       "      <td>0.000000</td>\n",
       "      <td>0.0</td>\n",
       "    </tr>\n",
       "    <tr>\n",
       "      <th>19998</th>\n",
       "      <td>0.00000</td>\n",
       "      <td>0.000000</td>\n",
       "      <td>0.000000</td>\n",
       "      <td>0.000000</td>\n",
       "      <td>0.000000</td>\n",
       "      <td>0.000000</td>\n",
       "      <td>0.000000</td>\n",
       "      <td>0.000000</td>\n",
       "      <td>0.000000</td>\n",
       "      <td>0.000000</td>\n",
       "      <td>...</td>\n",
       "      <td>0.000000</td>\n",
       "      <td>0.000000</td>\n",
       "      <td>0.000000</td>\n",
       "      <td>0.000000</td>\n",
       "      <td>0.000000</td>\n",
       "      <td>0.0</td>\n",
       "      <td>0.000000</td>\n",
       "      <td>0.000000</td>\n",
       "      <td>0.000000</td>\n",
       "      <td>0.0</td>\n",
       "    </tr>\n",
       "    <tr>\n",
       "      <th>19999</th>\n",
       "      <td>0.00000</td>\n",
       "      <td>0.000000</td>\n",
       "      <td>0.000000</td>\n",
       "      <td>0.000000</td>\n",
       "      <td>0.000000</td>\n",
       "      <td>0.000000</td>\n",
       "      <td>0.000000</td>\n",
       "      <td>0.000000</td>\n",
       "      <td>0.000000</td>\n",
       "      <td>0.000000</td>\n",
       "      <td>...</td>\n",
       "      <td>0.000000</td>\n",
       "      <td>0.000000</td>\n",
       "      <td>0.000000</td>\n",
       "      <td>0.000000</td>\n",
       "      <td>0.000000</td>\n",
       "      <td>0.0</td>\n",
       "      <td>0.000000</td>\n",
       "      <td>0.000000</td>\n",
       "      <td>0.000000</td>\n",
       "      <td>0.0</td>\n",
       "    </tr>\n",
       "    <tr>\n",
       "      <th>20000</th>\n",
       "      <td>10.21044</td>\n",
       "      <td>52.238178</td>\n",
       "      <td>16.677276</td>\n",
       "      <td>23.437635</td>\n",
       "      <td>25.803007</td>\n",
       "      <td>7.812545</td>\n",
       "      <td>72.633368</td>\n",
       "      <td>15.815711</td>\n",
       "      <td>8.195537</td>\n",
       "      <td>33.058121</td>\n",
       "      <td>...</td>\n",
       "      <td>8.070374</td>\n",
       "      <td>37.348002</td>\n",
       "      <td>24.392996</td>\n",
       "      <td>16.026432</td>\n",
       "      <td>7.959149</td>\n",
       "      <td>0.0</td>\n",
       "      <td>42.528461</td>\n",
       "      <td>23.437635</td>\n",
       "      <td>45.014341</td>\n",
       "      <td>0.0</td>\n",
       "    </tr>\n",
       "  </tbody>\n",
       "</table>\n",
       "<p>20001 rows × 1000 columns</p>\n",
       "</div>"
      ],
      "text/plain": [
       "            0          1          2          3          4          5    \\\n",
       "0       0.00000   0.000000   0.000000   0.000000   8.601002  15.625090   \n",
       "1       0.00000   0.000000   0.000000   0.000000   0.000000   7.812545   \n",
       "2       0.00000   0.000000   0.000000   0.000000   8.601002   0.000000   \n",
       "3       0.00000   0.000000   0.000000   0.000000   0.000000   7.812545   \n",
       "4       0.00000   0.000000   0.000000   0.000000   8.601002   7.812545   \n",
       "...         ...        ...        ...        ...        ...        ...   \n",
       "19996   0.00000   0.000000   0.000000   0.000000   0.000000   0.000000   \n",
       "19997   0.00000   0.000000   0.000000   0.000000   0.000000   0.000000   \n",
       "19998   0.00000   0.000000   0.000000   0.000000   0.000000   0.000000   \n",
       "19999   0.00000   0.000000   0.000000   0.000000   0.000000   0.000000   \n",
       "20000  10.21044  52.238178  16.677276  23.437635  25.803007   7.812545   \n",
       "\n",
       "             6          7          8          9    ...       990        991  \\\n",
       "0       0.000000   0.000000   0.000000   0.000000  ...  8.070374  14.939201   \n",
       "1      16.140748   7.907855  16.391075   8.264530  ...  0.000000  14.939201   \n",
       "2      16.140748   7.907855   8.195537   0.000000  ...  0.000000   7.469600   \n",
       "3       0.000000   0.000000   0.000000   0.000000  ...  0.000000  14.939201   \n",
       "4       0.000000   0.000000   0.000000   8.264530  ...  0.000000  14.939201   \n",
       "...          ...        ...        ...        ...  ...       ...        ...   \n",
       "19996   0.000000   0.000000   0.000000   0.000000  ...  0.000000   0.000000   \n",
       "19997   0.000000   0.000000   0.000000   0.000000  ...  0.000000   0.000000   \n",
       "19998   0.000000   0.000000   0.000000   0.000000  ...  0.000000   0.000000   \n",
       "19999   0.000000   0.000000   0.000000   0.000000  ...  0.000000   0.000000   \n",
       "20000  72.633368  15.815711   8.195537  33.058121  ...  8.070374  37.348002   \n",
       "\n",
       "             992        993       994  995        996        997        998  \\\n",
       "0      16.261998  16.026432  7.959149  0.0   0.000000  15.625090  15.004780   \n",
       "1       0.000000  32.052863  7.959149  0.0   0.000000  23.437635  22.507170   \n",
       "2       0.000000   0.000000  0.000000  0.0   8.505692   0.000000   0.000000   \n",
       "3       8.130999   0.000000  0.000000  0.0   0.000000  23.437635   7.502390   \n",
       "4       0.000000   0.000000  7.959149  0.0   0.000000  15.625090  15.004780   \n",
       "...          ...        ...       ...  ...        ...        ...        ...   \n",
       "19996   0.000000   0.000000  0.000000  0.0   0.000000   0.000000   0.000000   \n",
       "19997   0.000000   0.000000  0.000000  0.0   0.000000   0.000000   0.000000   \n",
       "19998   0.000000   0.000000  0.000000  0.0   0.000000   0.000000   0.000000   \n",
       "19999   0.000000   0.000000  0.000000  0.0   0.000000   0.000000   0.000000   \n",
       "20000  24.392996  16.026432  7.959149  0.0  42.528461  23.437635  45.014341   \n",
       "\n",
       "       999  \n",
       "0      0.0  \n",
       "1      0.0  \n",
       "2      0.0  \n",
       "3      0.0  \n",
       "4      0.0  \n",
       "...    ...  \n",
       "19996  0.0  \n",
       "19997  0.0  \n",
       "19998  0.0  \n",
       "19999  0.0  \n",
       "20000  0.0  \n",
       "\n",
       "[20001 rows x 1000 columns]"
      ]
     },
     "execution_count": 24,
     "metadata": {},
     "output_type": "execute_result"
    }
   ],
   "source": [
    "pd.DataFrame(tfidf)"
   ]
  },
  {
   "cell_type": "code",
   "execution_count": 30,
   "metadata": {},
   "outputs": [
    {
     "data": {
      "text/plain": [
       "0"
      ]
     },
     "execution_count": 30,
     "metadata": {},
     "output_type": "execute_result"
    }
   ],
   "source": [
    "len(column_names)"
   ]
  },
  {
   "cell_type": "code",
   "execution_count": 31,
   "metadata": {},
   "outputs": [],
   "source": [
    "import umap"
   ]
  },
  {
   "cell_type": "code",
   "execution_count": 32,
   "metadata": {},
   "outputs": [
    {
     "name": "stderr",
     "output_type": "stream",
     "text": [
      "C:\\Users\\Om Shreenidhi\\anaconda3\\lib\\site-packages\\sklearn\\manifold\\_spectral_embedding.py:236: UserWarning: Graph is not fully connected, spectral embedding may not work as expected.\n",
      "  warnings.warn(\"Graph is not fully connected, spectral embedding\"\n"
     ]
    }
   ],
   "source": [
    "We=umap.UMAP(n_neighbors=2,min_dist=0.5).fit_transform(tfidf)"
   ]
  },
  {
   "cell_type": "code",
   "execution_count": 112,
   "metadata": {},
   "outputs": [],
   "source": [
    "tsne=TSNE(n_components=3,perplexity=100,n_iter=10000)\n",
    "W=tsne.fit_transform(tfidf)"
   ]
  },
  {
   "cell_type": "code",
   "execution_count": 116,
   "metadata": {},
   "outputs": [
    {
     "data": {
      "text/plain": [
       "<mpl_toolkits.mplot3d.art3d.Path3DCollection at 0x1f41c518308>"
      ]
     },
     "execution_count": 116,
     "metadata": {},
     "output_type": "execute_result"
    },
    {
     "data": {
      "image/png": "[encoded data removed]",
      "text/plain": [
       "<Figure size 432x288 with 1 Axes>"
      ]
     },
     "metadata": {
      "needs_background": "light"
     },
     "output_type": "display_data"
    }
   ],
   "source": [
    "from mpl_toolkits import mplot3d\n",
    "ax=plt.axes(projection='3d')\n",
    "zdata=W[:,2]\n",
    "ydata=W[:,1]\n",
    "xdata=W[:,0]\n",
    "ax.scatter3D(xdata,ydata,zdata)"
   ]
  },
  {
   "cell_type": "code",
   "execution_count": 117,
   "metadata": {},
   "outputs": [
    {
     "data": {
      "text/plain": [
       "<matplotlib.collections.PathCollection at 0x1f41922f208>"
      ]
     },
     "execution_count": 117,
     "metadata": {},
     "output_type": "execute_result"
    },
    {
     "data": {
      "image/png": "[encoded data removed]",
      "text/plain": [
       "<Figure size 432x288 with 1 Axes>"
      ]
     },
     "metadata": {
      "needs_background": "light"
     },
     "output_type": "display_data"
    }
   ],
   "source": [
    "plt.scatter(W[:,0],W[:,1])"
   ]
  },
  {
   "cell_type": "code",
   "execution_count": 80,
   "metadata": {},
   "outputs": [
    {
     "data": {
      "text/plain": [
       "(2001, 2)"
      ]
     },
     "execution_count": 80,
     "metadata": {},
     "output_type": "execute_result"
    }
   ],
   "source": [
    "We.shape"
   ]
  },
  {
   "cell_type": "code",
   "execution_count": 38,
   "metadata": {},
   "outputs": [],
   "source": [
    "from sklearn.metrics import pairwise_distances"
   ]
  },
  {
   "cell_type": "code",
   "execution_count": 121,
   "metadata": {},
   "outputs": [],
   "source": [
    "def get_analogies(w1,w2,w3):\n",
    "    G,D=W.shape\n",
    "    word1=W[vocab[w1]]\n",
    "    word2=W[vocab[w2]]\n",
    "    word3=W[vocab[w3]]\n",
    "    V0=word1+word2-word3\n",
    "    distances=pairwise_distances(V0.reshape(1,D), W, metric='cosine').reshape(G)\n",
    "    idx = distances.argsort()[:30]\n",
    "    return idx"
   ]
  },
  {
   "cell_type": "code",
   "execution_count": 122,
   "metadata": {},
   "outputs": [],
   "source": [
    "l=get_analogies('man', 'woman','her')"
   ]
  },
  {
   "cell_type": "code",
   "execution_count": 123,
   "metadata": {},
   "outputs": [
    {
     "name": "stdout",
     "output_type": "stream",
     "text": [
      "products\n",
      "image\n",
      "isbn\n",
      "|ref=harv}}\n",
      "pages\n",
      "prominent\n",
      "sequence\n",
      "episode\n",
      "woman\n",
      "home\n",
      "school\n",
      "says\n",
      "creation\n",
      "Three\n",
      "call\n",
      "poet\n",
      "movement\n",
      "edition\n",
      "stars\n",
      "Portuguese\n",
      "told\n",
      "national\n",
      "formal\n",
      "latter\n",
      "regions\n",
      "amount\n",
      "Paris\n",
      "urban\n",
      "Ancient\n",
      "space\n"
     ]
    }
   ],
   "source": [
    "for i in l:\n",
    "    print(words[i])"
   ]
  }
 ],
 "metadata": {
  "kernelspec": {
   "display_name": "Python 3",
   "language": "python",
   "name": "python3"
  },
  "language_info": {
   "codemirror_mode": {
    "name": "ipython",
    "version": 3
   },
   "file_extension": ".py",
   "mimetype": "text/x-python",
   "name": "python",
   "nbconvert_exporter": "python",
   "pygments_lexer": "ipython3",
   "version": "3.7.6"
  }
 },
 "nbformat": 4,
 "nbformat_minor": 2
}
