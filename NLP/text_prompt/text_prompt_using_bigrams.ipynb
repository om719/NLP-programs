{
 "cells": [
  {
   "cell_type": "code",
   "execution_count": 13,
   "metadata": {},
   "outputs": [],
   "source": [
    "import pandas as pd\n",
    "import matplotlib.pyplot as plt\n",
    "import numpy as np"
   ]
  },
  {
   "cell_type": "code",
   "execution_count": 14,
   "metadata": {},
   "outputs": [],
   "source": [
    "import nltk"
   ]
  },
  {
   "cell_type": "code",
   "execution_count": 15,
   "metadata": {},
   "outputs": [
    {
     "name": "stderr",
     "output_type": "stream",
     "text": [
      "[nltk_data] Downloading package brown to C:\\Users\\Om\n",
      "[nltk_data]     Shreenidhi\\AppData\\Roaming\\nltk_data...\n",
      "[nltk_data]   Package brown is already up-to-date!\n"
     ]
    },
    {
     "data": {
      "text/plain": [
       "True"
      ]
     },
     "execution_count": 15,
     "metadata": {},
     "output_type": "execute_result"
    }
   ],
   "source": [
    "from nltk.corpus import brown\n",
    "nltk.download('brown')"
   ]
  },
  {
   "cell_type": "code",
   "execution_count": 16,
   "metadata": {},
   "outputs": [],
   "source": [
    "lines=brown.sents()"
   ]
  },
  {
   "cell_type": "code",
   "execution_count": 19,
   "metadata": {},
   "outputs": [],
   "source": [
    "wordcount_dict={}\n",
    "punctuations = '''!()-[]{};:'\"\\,<>./?@#$%^&*_~'''\n",
    "for line in lines:\n",
    "    for word in line:\n",
    "        word=word.lower()\n",
    "        if word not in wordcount_dict and word not in punctuations:\n",
    "            wordcount_dict[word]=0\n",
    "        if word not in punctuations:\n",
    "            wordcount_dict[word]+=1"
   ]
  },
  {
   "cell_type": "code",
   "execution_count": 20,
   "metadata": {},
   "outputs": [],
   "source": [
    "word_dict=sorted(wordcount_dict.items(), key = lambda kv:(kv[1], kv[0]),reverse=True)"
   ]
  },
  {
   "cell_type": "code",
   "execution_count": 46,
   "metadata": {},
   "outputs": [],
   "source": [
    "word_pos={}\n",
    "words=[]\n",
    "words.append(\"START\")\n",
    "k=1\n",
    "for i in range(0,2000):\n",
    "    word_pos[word_dict[i][0]]=k\n",
    "    k+=1\n",
    "    words.append(word_dict[i][0])"
   ]
  },
  {
   "cell_type": "code",
   "execution_count": 50,
   "metadata": {},
   "outputs": [],
   "source": [
    "words.append(\"UNKNOWN\")\n",
    "words.append(\"END\")\n",
    "word_pos[\"START\"]=0\n",
    "word_pos[\"UNKNOWN\"]=2001\n",
    "word_pos[\"END\"]=2002"
   ]
  },
  {
   "cell_type": "code",
   "execution_count": 51,
   "metadata": {},
   "outputs": [],
   "source": [
    "sentences=[]\n",
    "for line in lines:\n",
    "    sentence=[]\n",
    "    for word in line:\n",
    "        word=word.lower()\n",
    "        if word not in words:\n",
    "            sentence.append(word_pos[\"UNKNOWN\"])\n",
    "        else:\n",
    "            sentence.append(word_pos[word])\n",
    "    sentences.append(sentence)"
   ]
  },
  {
   "cell_type": "code",
   "execution_count": 55,
   "metadata": {},
   "outputs": [],
   "source": [
    "\n",
    "def get_bigrams():\n",
    "    A=np.ones((worcount,worcount))\n",
    "    for sentence in sentences:\n",
    "        for i in range(0,len(sentence)):\n",
    "            if i==0:\n",
    "                A[0,sentence[i]]+=1\n",
    "            elif i!=len(sentence)-1:\n",
    "                A[sentence[i-1],sentence[i]]+=1\n",
    "            else:\n",
    "                A[2002,sentence[i]]+=1\n",
    "    A/=A.sum(axis=0,keepdims=True)\n",
    "    \n",
    "    return A\n",
    "        "
   ]
  },
  {
   "cell_type": "code",
   "execution_count": 56,
   "metadata": {},
   "outputs": [],
   "source": [
    "bigrams=get_bigrams()"
   ]
  },
  {
   "cell_type": "code",
   "execution_count": 109,
   "metadata": {},
   "outputs": [],
   "source": [
    "def probable_words(sentence):\n",
    "    sentence=sentence.lower()\n",
    "    word=sentence.split(\" \")[-1]\n",
    "    word=word.lower()\n",
    "    d={}\n",
    "    prob=[]\n",
    "    if word in words:\n",
    "        for i in range(0,2003):\n",
    "             d[i]=bigrams[word_pos[word]][i]\n",
    "    else:\n",
    "        for i in range(0,2003):\n",
    "            d[i]=bigrams[2001][[i]]\n",
    "    d2=sorted(d.items(), key = lambda kv:(kv[1], kv[0]),reverse=True)\n",
    "    for i in range(0,5):\n",
    "        prob.append(words[d2[i][0]])\n",
    "        \n",
    "    return prob\n",
    "        \n",
    "    \n",
    "        "
   ]
  },
  {
   "cell_type": "code",
   "execution_count": 143,
   "metadata": {},
   "outputs": [],
   "source": [
    "p=probable_words(\"the jury further said in term-end presentments that the city\")"
   ]
  },
  {
   "cell_type": "code",
   "execution_count": 144,
   "metadata": {},
   "outputs": [
    {
     "data": {
      "text/plain": [
       "['council', 'hall', 'areas', 'government', 'desk']"
      ]
     },
     "execution_count": 144,
     "metadata": {},
     "output_type": "execute_result"
    }
   ],
   "source": [
    "p"
   ]
  },
  {
   "cell_type": "code",
   "execution_count": 133,
   "metadata": {},
   "outputs": [
    {
     "data": {
      "text/plain": [
       "['The',\n",
       " 'jury',\n",
       " 'further',\n",
       " 'said',\n",
       " 'in',\n",
       " 'term-end',\n",
       " 'presentments',\n",
       " 'that',\n",
       " 'the',\n",
       " 'City',\n",
       " 'Executive',\n",
       " 'Committee',\n",
       " ',',\n",
       " 'which',\n",
       " 'had',\n",
       " 'over-all',\n",
       " 'charge',\n",
       " 'of',\n",
       " 'the',\n",
       " 'election',\n",
       " ',',\n",
       " '``',\n",
       " 'deserves',\n",
       " 'the',\n",
       " 'praise',\n",
       " 'and',\n",
       " 'thanks',\n",
       " 'of',\n",
       " 'the',\n",
       " 'City',\n",
       " 'of',\n",
       " 'Atlanta',\n",
       " \"''\",\n",
       " 'for',\n",
       " 'the',\n",
       " 'manner',\n",
       " 'in',\n",
       " 'which',\n",
       " 'the',\n",
       " 'election',\n",
       " 'was',\n",
       " 'conducted',\n",
       " '.']"
      ]
     },
     "execution_count": 133,
     "metadata": {},
     "output_type": "execute_result"
    }
   ],
   "source": [
    "lines[1]"
   ]
  },
  {
   "cell_type": "code",
   "execution_count": 134,
   "metadata": {},
   "outputs": [
    {
     "data": {
      "text/plain": [
       "[1,\n",
       " 1636,\n",
       " 431,\n",
       " 56,\n",
       " 6,\n",
       " 2001,\n",
       " 2001,\n",
       " 7,\n",
       " 1,\n",
       " 230,\n",
       " 2001,\n",
       " 593,\n",
       " 2001,\n",
       " 33,\n",
       " 24,\n",
       " 2001,\n",
       " 858,\n",
       " 2,\n",
       " 1,\n",
       " 1401,\n",
       " 2001,\n",
       " 12,\n",
       " 2001,\n",
       " 1,\n",
       " 2001,\n",
       " 3,\n",
       " 2001,\n",
       " 2,\n",
       " 1,\n",
       " 230,\n",
       " 2,\n",
       " 2001,\n",
       " 13,\n",
       " 11,\n",
       " 1,\n",
       " 841,\n",
       " 6,\n",
       " 33,\n",
       " 1,\n",
       " 1401,\n",
       " 9,\n",
       " 2001,\n",
       " 2001]"
      ]
     },
     "execution_count": 134,
     "metadata": {},
     "output_type": "execute_result"
    }
   ],
   "source": [
    "sentences[1]"
   ]
  },
  {
   "cell_type": "code",
   "execution_count": 106,
   "metadata": {},
   "outputs": [],
   "source": [
    "word=sentence.split(\" \")[-1]"
   ]
  },
  {
   "cell_type": "code",
   "execution_count": 107,
   "metadata": {},
   "outputs": [
    {
     "data": {
      "text/plain": [
       "'is'"
      ]
     },
     "execution_count": 107,
     "metadata": {},
     "output_type": "execute_result"
    }
   ],
   "source": [
    "word"
   ]
  },
  {
   "cell_type": "code",
   "execution_count": null,
   "metadata": {},
   "outputs": [],
   "source": []
  }
 ],
 "metadata": {
  "kernelspec": {
   "display_name": "Python 3",
   "language": "python",
   "name": "python3"
  },
  "language_info": {
   "codemirror_mode": {
    "name": "ipython",
    "version": 3
   },
   "file_extension": ".py",
   "mimetype": "text/x-python",
   "name": "python",
   "nbconvert_exporter": "python",
   "pygments_lexer": "ipython3",
   "version": "3.7.6"
  }
 },
 "nbformat": 4,
 "nbformat_minor": 2
}
